{
 "cells": [
  {
   "cell_type": "code",
   "execution_count": 1,
   "id": "bb106ef3",
   "metadata": {},
   "outputs": [],
   "source": [
    "import pandas as pd\n",
    "\n",
    "data = pd.read_csv('cardio_dataset-original.csv')"
   ]
  },
  {
   "cell_type": "markdown",
   "id": "b8d37b45",
   "metadata": {},
   "source": [
    "### step 01 - Handling Outliers"
   ]
  },
  {
   "cell_type": "code",
   "execution_count": 2,
   "id": "bc832800",
   "metadata": {},
   "outputs": [],
   "source": [
    "# handling outliers for all numerical data\n",
    "\n",
    "# remove outliers in AGEIR\n",
    "factor = 4\n",
    "\n",
    "upper_lim = data['AGEIR'].mean () + data['AGEIR'].std () * factor\n",
    "lower_lim = data['AGEIR'].mean () - data['AGEIR'].std () * factor\n",
    "\n",
    "data_new = data[(data['AGEIR'] < upper_lim) & (data['AGEIR'] > lower_lim)]"
   ]
  },
  {
   "cell_type": "code",
   "execution_count": 3,
   "id": "5df01525",
   "metadata": {},
   "outputs": [],
   "source": [
    "# remove outliers in TC (Total Cholesterol)\n",
    "upper_lim = data_new['TC'].mean () + data_new['TC'].std () * factor\n",
    "lower_lim = data_new['TC'].mean () - data_new['TC'].std () * factor\n",
    "\n",
    "data_new = data_new[(data_new['TC'] < upper_lim) & (data_new['TC'] > lower_lim)]"
   ]
  },
  {
   "cell_type": "code",
   "execution_count": 4,
   "id": "bede4abc",
   "metadata": {},
   "outputs": [],
   "source": [
    "# remove outliers in HDL (High-Density Lipoprotein)\n",
    "upper_lim = data_new['HDL'].mean () + data_new['HDL'].std () * factor\n",
    "lower_lim = data_new['HDL'].mean () - data_new['HDL'].std () * factor\n",
    "\n",
    "data_new = data_new[(data_new['HDL'] < upper_lim) & (data_new['HDL'] > lower_lim)]"
   ]
  },
  {
   "cell_type": "code",
   "execution_count": 5,
   "id": "7d91a65e",
   "metadata": {},
   "outputs": [],
   "source": [
    "# remove outliers in RISK\n",
    "upper_lim = data_new['RISK'].mean () + data_new['RISK'].std () * factor\n",
    "lower_lim = data_new['RISK'].mean () - data_new['RISK'].std () * factor\n",
    "\n",
    "data_new = data_new[(data_new['RISK'] < upper_lim) & (data_new['RISK'] > lower_lim)]"
   ]
  },
  {
   "cell_type": "markdown",
   "id": "30134042",
   "metadata": {},
   "source": [
    "### step 02 - Categorical Encoding"
   ]
  },
  {
   "cell_type": "code",
   "execution_count": 6,
   "id": "0e0e562a",
   "metadata": {},
   "outputs": [
    {
     "name": "stdout",
     "output_type": "stream",
     "text": [
      "SEX           category\n",
      "AGEIR            int64\n",
      "TC               int64\n",
      "HDL              int64\n",
      "SMOKE_        category\n",
      "BPMED         category\n",
      "DIAB_noyes    category\n",
      "RISK           float64\n",
      "dtype: object\n"
     ]
    }
   ],
   "source": [
    "# categorical data convert to categorical type\n",
    "\n",
    "data_new[\"SEX\"] = data_new[\"SEX\"].astype('category')\n",
    "data_new[\"SMOKE_\"] = data_new[\"SMOKE_\"].astype('category')\n",
    "data_new[\"BPMED\"] = data_new[\"BPMED\"].astype('category')\n",
    "data_new[\"DIAB_noyes\"] = data_new[\"DIAB_noyes\"].astype('category')\n",
    "print(data_new.dtypes)"
   ]
  },
  {
   "cell_type": "code",
   "execution_count": 7,
   "id": "8e65e0a7",
   "metadata": {},
   "outputs": [
    {
     "data": {
      "text/html": [
       "<div>\n",
       "<style scoped>\n",
       "    .dataframe tbody tr th:only-of-type {\n",
       "        vertical-align: middle;\n",
       "    }\n",
       "\n",
       "    .dataframe tbody tr th {\n",
       "        vertical-align: top;\n",
       "    }\n",
       "\n",
       "    .dataframe thead th {\n",
       "        text-align: right;\n",
       "    }\n",
       "</style>\n",
       "<table border=\"1\" class=\"dataframe\">\n",
       "  <thead>\n",
       "    <tr style=\"text-align: right;\">\n",
       "      <th></th>\n",
       "      <th>SEX</th>\n",
       "      <th>AGEIR</th>\n",
       "      <th>TC</th>\n",
       "      <th>HDL</th>\n",
       "      <th>SMOKE_</th>\n",
       "      <th>BPMED</th>\n",
       "      <th>DIAB_noyes</th>\n",
       "      <th>RISK</th>\n",
       "    </tr>\n",
       "  </thead>\n",
       "  <tbody>\n",
       "    <tr>\n",
       "      <th>0</th>\n",
       "      <td>0</td>\n",
       "      <td>48</td>\n",
       "      <td>236</td>\n",
       "      <td>66</td>\n",
       "      <td>0</td>\n",
       "      <td>1</td>\n",
       "      <td>0</td>\n",
       "      <td>1.1</td>\n",
       "    </tr>\n",
       "    <tr>\n",
       "      <th>1</th>\n",
       "      <td>1</td>\n",
       "      <td>48</td>\n",
       "      <td>260</td>\n",
       "      <td>51</td>\n",
       "      <td>0</td>\n",
       "      <td>1</td>\n",
       "      <td>1</td>\n",
       "      <td>7.0</td>\n",
       "    </tr>\n",
       "    <tr>\n",
       "      <th>2</th>\n",
       "      <td>1</td>\n",
       "      <td>44</td>\n",
       "      <td>187</td>\n",
       "      <td>49</td>\n",
       "      <td>1</td>\n",
       "      <td>1</td>\n",
       "      <td>0</td>\n",
       "      <td>7.0</td>\n",
       "    </tr>\n",
       "    <tr>\n",
       "      <th>3</th>\n",
       "      <td>0</td>\n",
       "      <td>42</td>\n",
       "      <td>216</td>\n",
       "      <td>57</td>\n",
       "      <td>1</td>\n",
       "      <td>1</td>\n",
       "      <td>0</td>\n",
       "      <td>0.4</td>\n",
       "    </tr>\n",
       "    <tr>\n",
       "      <th>4</th>\n",
       "      <td>0</td>\n",
       "      <td>56</td>\n",
       "      <td>156</td>\n",
       "      <td>42</td>\n",
       "      <td>0</td>\n",
       "      <td>1</td>\n",
       "      <td>0</td>\n",
       "      <td>2.2</td>\n",
       "    </tr>\n",
       "  </tbody>\n",
       "</table>\n",
       "</div>"
      ],
      "text/plain": [
       "   SEX  AGEIR   TC  HDL  SMOKE_  BPMED  DIAB_noyes  RISK\n",
       "0    0     48  236   66       0      1           0   1.1\n",
       "1    1     48  260   51       0      1           1   7.0\n",
       "2    1     44  187   49       1      1           0   7.0\n",
       "3    0     42  216   57       1      1           0   0.4\n",
       "4    0     56  156   42       0      1           0   2.2"
      ]
     },
     "execution_count": 7,
     "metadata": {},
     "output_type": "execute_result"
    }
   ],
   "source": [
    "# using label encoding\n",
    "\n",
    "# replacing the columns\n",
    "data_new[\"SEX\"] = data_new[\"SEX\"].cat.codes\n",
    "data_new[\"SMOKE_\"] = data_new[\"SMOKE_\"].cat.codes\n",
    "data_new[\"BPMED\"] = data_new[\"BPMED\"].cat.codes\n",
    "data_new[\"DIAB_noyes\"] = data_new[\"DIAB_noyes\"].cat.codes\n",
    "data_new.head()"
   ]
  },
  {
   "cell_type": "markdown",
   "id": "98039228",
   "metadata": {},
   "source": [
    "### step 03 - Scaling"
   ]
  },
  {
   "cell_type": "code",
   "execution_count": 8,
   "id": "b0c63ace",
   "metadata": {},
   "outputs": [
    {
     "name": "stdout",
     "output_type": "stream",
     "text": [
      "[[  0.  48. 236. ...   0.   1.   0.]\n",
      " [  1.  48. 260. ...   0.   1.   1.]\n",
      " [  1.  44. 187. ...   1.   1.   0.]\n",
      " ...\n",
      " [  1.  65. 212. ...   1.   0.   0.]\n",
      " [  1.  66. 184. ...   0.   0.   0.]\n",
      " [  0.  45. 203. ...   0.   1.   0.]]\n"
     ]
    }
   ],
   "source": [
    "# data & target reservation\n",
    "\n",
    "dataset = data_new.values # convert numpy array\n",
    "\n",
    "data = dataset[:,:7]\n",
    "target = dataset[:,7]\n",
    "\n",
    "print(data)"
   ]
  },
  {
   "cell_type": "code",
   "execution_count": 9,
   "id": "7256dd43",
   "metadata": {},
   "outputs": [],
   "source": [
    "# using quantile transformer method\n",
    "\n",
    "from sklearn.preprocessing import QuantileTransformer\n",
    "\n",
    "# scaling data\n",
    "model_qntl_data = QuantileTransformer(output_distribution='normal', random_state=0)\n",
    "data_scaled = model_qntl_data.fit_transform(data)"
   ]
  },
  {
   "cell_type": "code",
   "execution_count": 10,
   "id": "3d98356f",
   "metadata": {},
   "outputs": [],
   "source": [
    "# scaling target\n",
    "# if it is a regression problem, even the target should be scaled\n",
    "model_qntl_target = QuantileTransformer(output_distribution='normal', random_state=0)\n",
    "target_scaled = model_qntl_target.fit_transform(target.reshape(-1,1))"
   ]
  },
  {
   "cell_type": "markdown",
   "id": "328c5ee1",
   "metadata": {},
   "source": [
    "### step 04 - Polynomial Features"
   ]
  },
  {
   "cell_type": "code",
   "execution_count": 11,
   "id": "eb8b8ff2",
   "metadata": {},
   "outputs": [],
   "source": [
    "from sklearn.preprocessing import PolynomialFeatures\n",
    "\n",
    "# transform to 3 degree\n",
    "model_poly = PolynomialFeatures(degree=3,include_bias=False)\n",
    "data_high = model_poly.fit_transform(data_scaled)"
   ]
  },
  {
   "cell_type": "markdown",
   "id": "667db046",
   "metadata": {},
   "source": [
    "### step 05 - Training"
   ]
  },
  {
   "cell_type": "code",
   "execution_count": 12,
   "id": "a94c1755",
   "metadata": {},
   "outputs": [],
   "source": [
    "# train test split\n",
    "from sklearn.model_selection import train_test_split\n",
    "\n",
    "train_data,test_data,train_target,test_target = train_test_split(data_high,target_scaled,test_size=0.1)"
   ]
  },
  {
   "cell_type": "code",
   "execution_count": 13,
   "id": "8a4fe710",
   "metadata": {},
   "outputs": [],
   "source": [
    "# training (using LinearRegression)\n",
    "from sklearn.linear_model import LinearRegression\n",
    "\n",
    "model = LinearRegression()\n",
    "\n",
    "model.fit(train_data,train_target)\n",
    "predicted_target = model.predict(test_data)"
   ]
  },
  {
   "cell_type": "code",
   "execution_count": 14,
   "id": "03724f03",
   "metadata": {},
   "outputs": [
    {
     "name": "stdout",
     "output_type": "stream",
     "text": [
      "r2 score : 0.8973818727015511\n"
     ]
    }
   ],
   "source": [
    "# get score\n",
    "from sklearn.metrics import r2_score\n",
    "\n",
    "r2=r2_score(test_target,predicted_target)\n",
    "print(\"r2 score :\",r2)"
   ]
  },
  {
   "cell_type": "markdown",
   "id": "366f6b29",
   "metadata": {},
   "source": [
    "### step 06 - Save all the model files"
   ]
  },
  {
   "cell_type": "code",
   "execution_count": 15,
   "id": "ab0bdd4e",
   "metadata": {},
   "outputs": [
    {
     "data": {
      "text/plain": [
       "['model_qntl_target.sav']"
      ]
     },
     "execution_count": 15,
     "metadata": {},
     "output_type": "execute_result"
    }
   ],
   "source": [
    "# save all models\n",
    "import joblib\n",
    "\n",
    "joblib.dump(model,'heart_risk_regression.sav')\n",
    "joblib.dump(model_poly,'model_poly.sav')\n",
    "joblib.dump(model_qntl_data,'model_qntl_data.sav')\n",
    "joblib.dump(model_qntl_target,'model_qntl_target.sav')"
   ]
  },
  {
   "cell_type": "code",
   "execution_count": null,
   "id": "4cc01792",
   "metadata": {},
   "outputs": [],
   "source": []
  }
 ],
 "metadata": {
  "kernelspec": {
   "display_name": "Python 3 (ipykernel)",
   "language": "python",
   "name": "python3"
  },
  "language_info": {
   "codemirror_mode": {
    "name": "ipython",
    "version": 3
   },
   "file_extension": ".py",
   "mimetype": "text/x-python",
   "name": "python",
   "nbconvert_exporter": "python",
   "pygments_lexer": "ipython3",
   "version": "3.10.9"
  }
 },
 "nbformat": 4,
 "nbformat_minor": 5
}
